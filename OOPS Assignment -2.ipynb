{
 "cells": [
  {
   "cell_type": "raw",
   "id": "9cbae956-2641-417b-9156-44919b20754f",
   "metadata": {},
   "source": [
    "q1. Abstraction is a fundamental concept in object-oriented programming (OOP) that allows you to model complex systems by focusing on the essential features and behaviors while hiding unnecessary details.\n",
    "\n",
    "class Animal(ABC):\n",
    "    @abstractmethod\n",
    "    def sound(self):\n",
    "        pass\n",
    "\n",
    "\n",
    "class Dog(Animal):\n",
    "    def sound(self):\n",
    "        print(\"Dog barks!\")\n",
    "\n",
    "\n",
    "class Cat(Animal):\n",
    "    def sound(self):\n",
    "        print(\"Cat meows!\")\n"
   ]
  },
  {
   "cell_type": "raw",
   "id": "98492995-f372-40ce-a14d-3a1759590827",
   "metadata": {},
   "source": [
    "q2.  Abstraction is a concept that focuses on simplifying complex systems by modeling them at a higher level of abstraction, while encapsulation is a mechanism that bundles data and methods together within a class, hiding the internal details and exposing only necessary interfaces.\n"
   ]
  },
  {
   "cell_type": "raw",
   "id": "f2a0681c-158b-4c21-bdbe-fbc4a5242b61",
   "metadata": {},
   "source": [
    "q3. The abc module is used to define abstract classes and abstract methods in Python. Abstract classes are classes that contain one or more abstract methods, which are methods without an implementation. Abstract methods act as a contract or interface that must be implemented by any concrete subclass derived from the abstract class."
   ]
  },
  {
   "cell_type": "raw",
   "id": "4f8c19af-4f56-4b83-a02d-cb0c8c0ab6ef",
   "metadata": {},
   "source": [
    "q4. Data abstraction can be achieved in Python through the use of classes, where we encapsulate the data and expose only the necessary interfaces to interact with the data."
   ]
  }
 ],
 "metadata": {
  "kernelspec": {
   "display_name": "Python 3 (ipykernel)",
   "language": "python",
   "name": "python3"
  },
  "language_info": {
   "codemirror_mode": {
    "name": "ipython",
    "version": 3
   },
   "file_extension": ".py",
   "mimetype": "text/x-python",
   "name": "python",
   "nbconvert_exporter": "python",
   "pygments_lexer": "ipython3",
   "version": "3.10.8"
  }
 },
 "nbformat": 4,
 "nbformat_minor": 5
}
