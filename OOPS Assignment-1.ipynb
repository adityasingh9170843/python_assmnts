{
 "cells": [
  {
   "cell_type": "raw",
   "id": "a8673adb-92d8-4bad-b0e9-8e6ad836770c",
   "metadata": {},
   "source": [
    "#q1 In object-oriented programming (OOP), a class is a blueprint or a template that defines the properties (attributes) and behaviors (methods) that objects of that class will possess.An object, on the other hand, is an instance of a class. It is a concrete entity that is created based on the definition (blueprint) provided by the class\n",
    "\n",
    "\n",
    "class Person:\n",
    "    def __init__(self, name, age):\n",
    "        self.name = name\n",
    "        self.age = age\n",
    "\n",
    "    def say_hello(self):\n",
    "        print(f\"Hello, my name is {self.name} and I am {self.age} years old.\")\n",
    "\n"
   ]
  },
  {
   "cell_type": "markdown",
   "id": "4a0ce4bb-5f6e-42b2-a962-f3fecebcb709",
   "metadata": {},
   "source": [
    "q2 The four pillars of object-oriented programming (OOP) are:\n",
    "\n",
    "1. Encapsulation\n",
    "2. inheritance\n",
    "3. Polymorphism\n",
    "4. Abstraction"
   ]
  },
  {
   "cell_type": "raw",
   "id": "5d2f561b-e48a-4103-a6fc-c3f09a061788",
   "metadata": {},
   "source": [
    "q3. The __init__() function is a special method in Python classes that is automatically called when an object is created from the class. It is known as the constructor method and is used to initialize the attributes of the object.\n",
    "\n",
    "class Person:\n",
    "    def __init__(self, name, age):\n",
    "        self.name = name\n",
    "        self.age = age\n"
   ]
  },
  {
   "cell_type": "raw",
   "id": "8e23e419-e74b-4368-9096-735e4a3747bf",
   "metadata": {},
   "source": [
    "q4. In object-oriented programming (OOP), self is a convention used to refer to the instance of a class within the class itself. It is a reference to the object on which a method is being called. The self parameter allows you to access the attributes and methods of the current object within the class definitio"
   ]
  },
  {
   "cell_type": "code",
   "execution_count": null,
   "id": "27b49c13-f0e5-4693-8450-9e749dd29505",
   "metadata": {},
   "outputs": [],
   "source": [
    "q5. "
   ]
  }
 ],
 "metadata": {
  "kernelspec": {
   "display_name": "Python 3 (ipykernel)",
   "language": "python",
   "name": "python3"
  },
  "language_info": {
   "codemirror_mode": {
    "name": "ipython",
    "version": 3
   },
   "file_extension": ".py",
   "mimetype": "text/x-python",
   "name": "python",
   "nbconvert_exporter": "python",
   "pygments_lexer": "ipython3",
   "version": "3.10.8"
  }
 },
 "nbformat": 4,
 "nbformat_minor": 5
}
