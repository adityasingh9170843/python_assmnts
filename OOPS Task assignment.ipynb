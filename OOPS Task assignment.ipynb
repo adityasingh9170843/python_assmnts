{
 "cells": [
  {
   "cell_type": "code",
   "execution_count": 21,
   "id": "6037563e-d3cf-4bc5-9b02-f55722c44da1",
   "metadata": {},
   "outputs": [],
   "source": [
    "## Q1.\n",
    "\n",
    "class Vehicle:\n",
    "    def __init__(self, name_of_vehicle, max_speed , average_of_vehicle):\n",
    "        self.name_of_vehicle = name_of_vehicle\n",
    "        self.max_speed = max_speed\n",
    "        self.average_of_vehicle = average_of_vehicle\n",
    "        \n",
    "\n",
    "    \n"
   ]
  },
  {
   "cell_type": "code",
   "execution_count": 30,
   "id": "52779a01-4467-4deb-b7aa-5412b4f63990",
   "metadata": {},
   "outputs": [],
   "source": [
    "##q2.\n",
    "\n",
    "class Car(Vehicle):\n",
    "    def seating_capacity(self , capacity):\n",
    "        return f\"{self.name_of_vehicle} has a seating capacity of {capacity} people.\""
   ]
  },
  {
   "cell_type": "code",
   "execution_count": 40,
   "id": "ed4a0f95-c916-4c1c-9d49-0a5032c72d9f",
   "metadata": {},
   "outputs": [
    {
     "data": {
      "text/plain": [
       "' this is plane class'"
      ]
     },
     "execution_count": 40,
     "metadata": {},
     "output_type": "execute_result"
    }
   ],
   "source": [
    "##q3.\n",
    "\n",
    "class bike:\n",
    "    def class1(self):\n",
    "        return \" this is bike class\"\n",
    "    \n",
    "class plane:\n",
    "    def class2(self):\n",
    "        return \" this is plane class\"\n",
    "    \n",
    "\n",
    "class class3( bike,plane):\n",
    "    pass\n",
    "\n",
    "    \n",
    "obj_a =class3()        \n",
    "obj_a.class1()\n",
    "obj_a.class2()\n"
   ]
  },
  {
   "cell_type": "code",
   "execution_count": 1,
   "id": "a0cd7822-656e-439f-8695-b5423acdfc3b",
   "metadata": {},
   "outputs": [],
   "source": [
    "##q4.\n",
    "\n",
    "class pwskills :\n",
    "    \n",
    "    def __init__(self , course_price , coruse_name):\n",
    "        \n",
    "        self.__course_price = course_price\n",
    "        self.course_name = coruse_name\n",
    "        \n",
    "    @property\n",
    "    def course_price_access(self) : \n",
    "        return self.__course_price\n",
    "    \n",
    "    @course_price_access.setter\n",
    "    def course_price_set(self , price ):\n",
    "        if price <= 3500:\n",
    "            pass\n",
    "        else :\n",
    "            self.__course_price = price\n",
    "            \n",
    "    @course_price_access.deleter\n",
    "    def delete_course_price(self) : \n",
    "        del self.__course_price\n",
    "\n"
   ]
  },
  {
   "cell_type": "code",
   "execution_count": null,
   "id": "2ad6a761-f948-4e42-80af-32ebeaf59e70",
   "metadata": {},
   "outputs": [],
   "source": []
  }
 ],
 "metadata": {
  "kernelspec": {
   "display_name": "Python 3 (ipykernel)",
   "language": "python",
   "name": "python3"
  },
  "language_info": {
   "codemirror_mode": {
    "name": "ipython",
    "version": 3
   },
   "file_extension": ".py",
   "mimetype": "text/x-python",
   "name": "python",
   "nbconvert_exporter": "python",
   "pygments_lexer": "ipython3",
   "version": "3.10.8"
  }
 },
 "nbformat": 4,
 "nbformat_minor": 5
}
