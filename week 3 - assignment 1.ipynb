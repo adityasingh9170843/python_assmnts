{
 "cells": [
  {
   "cell_type": "code",
   "execution_count": 22,
   "id": "d4c51381-cd15-4b0a-a64e-2f01916b0608",
   "metadata": {},
   "outputs": [
    {
     "data": {
      "text/plain": [
       "[1, 3, 5, 7, 9, 11, 13, 15, 17, 19, 21, 23]"
      ]
     },
     "execution_count": 22,
     "metadata": {},
     "output_type": "execute_result"
    }
   ],
   "source": [
    "## The keyword used to create a function in Python is def.\n",
    "\n",
    "def func():\n",
    "    m_list = []\n",
    "    for i in range(1,25):\n",
    "        if i%2 != 0:\n",
    "            m_list.append(i)\n",
    "    return m_list\n",
    "        \n",
    "func()"
   ]
  },
  {
   "cell_type": "code",
   "execution_count": 32,
   "id": "4301e745-211d-416b-8625-73988a94a11f",
   "metadata": {},
   "outputs": [
    {
     "data": {
      "text/plain": [
       "(45, 'adi', 56.55)"
      ]
     },
     "execution_count": 32,
     "metadata": {},
     "output_type": "execute_result"
    }
   ],
   "source": [
    "## Q2. The *args syntax allows a function to accept any number of positional arguments as a tuple.\n",
    "\n",
    "## **kwargs is used to pass a variable number of keyword arguments to a function. The arguments are collected into a dictionary.\n",
    "\n",
    "def argss(*args):\n",
    "    return args\n",
    "\n",
    "argss(45, \"adi\", 56.55)\n",
    "\n",
    "\n"
   ]
  },
  {
   "cell_type": "code",
   "execution_count": 31,
   "id": "e35ce018-79ae-4f8c-b9d3-e894f073b913",
   "metadata": {},
   "outputs": [
    {
     "data": {
      "text/plain": [
       "{'a': 20, 'b': 'adi', 'c': [1, 2, 3, 4]}"
      ]
     },
     "execution_count": 31,
     "metadata": {},
     "output_type": "execute_result"
    }
   ],
   "source": [
    "def kwrgs(**kwargs):\n",
    "    return kwargs\n",
    "\n",
    "kwrgs(a = 20 , b = \"adi\" , c = [1,2,3,4])"
   ]
  },
  {
   "cell_type": "code",
   "execution_count": 47,
   "id": "87ea6044-32f9-436f-a18c-2e6eb971475e",
   "metadata": {},
   "outputs": [
    {
     "name": "stdout",
     "output_type": "stream",
     "text": [
      "2\n",
      "4\n",
      "6\n",
      "8\n",
      "10\n"
     ]
    }
   ],
   "source": [
    "## In Python, an iterator is an object that allows iteration over a collection of elements.\n",
    "\n",
    "## The iter() method is used to initialize an iterator object and To perform the iteration, the next() method is used.\n",
    "\n",
    "l = [2, 4, 6, 8, 10, 12, 14, 16, 18, 20]\n",
    "\n",
    "itr = iter(l)\n",
    "\n",
    "for i in range(5):\n",
    "     print(next(itr))\n",
    "    \n",
    "    \n"
   ]
  },
  {
   "cell_type": "code",
   "execution_count": 48,
   "id": "7de7fdd0-6306-4b7b-aa6d-af3b53853830",
   "metadata": {},
   "outputs": [
    {
     "name": "stdout",
     "output_type": "stream",
     "text": [
      "0\n",
      "1\n",
      "1\n",
      "2\n",
      "3\n",
      "5\n",
      "8\n",
      "13\n",
      "21\n",
      "34\n"
     ]
    }
   ],
   "source": [
    "## Q4. In Python, a generator function is a special type of function that returns an iterator, known as a generator.\n",
    "\n",
    "## The yield keyword is used within a generator function to specify the value to be produced in each iteration.\n",
    "\n",
    "def fib():\n",
    "    a, b = 0, 1\n",
    "    while True:\n",
    "        yield a\n",
    "        a, b = b, a + b\n",
    "        \n",
    "fib1 = fib()\n",
    "        \n",
    "for i in range(10):\n",
    "    print(next(fib1))\n",
    "\n"
   ]
  },
  {
   "cell_type": "code",
   "execution_count": 66,
   "id": "1b8c9987-020c-40d6-9167-87d0d7f56bf4",
   "metadata": {},
   "outputs": [
    {
     "name": "stdout",
     "output_type": "stream",
     "text": [
      "2\n",
      "3\n",
      "5\n",
      "7\n",
      "11\n",
      "13\n",
      "17\n",
      "19\n",
      "23\n",
      "29\n",
      "31\n",
      "37\n",
      "41\n",
      "43\n",
      "47\n",
      "53\n",
      "59\n",
      "61\n",
      "67\n",
      "71\n"
     ]
    }
   ],
   "source": [
    "##q5.\n",
    "\n",
    "def prime_generator():\n",
    "    primes = []\n",
    "    num = 2\n",
    "    while num < 1000:\n",
    "        is_prime = True\n",
    "        for prime in primes:\n",
    "            if num % prime == 0:\n",
    "                is_prime = False\n",
    "                break\n",
    "        if is_prime:\n",
    "            primes.append(num)\n",
    "            yield num\n",
    "        num += 1\n",
    "\n",
    "prime_gen = prime_generator()\n",
    "\n",
    "for _ in range(20):\n",
    "    prime = next(prime_gen)\n",
    "    print(prime)"
   ]
  },
  {
   "cell_type": "code",
   "execution_count": 49,
   "id": "dd68e719-61b6-4c11-972b-6ce17d01630f",
   "metadata": {},
   "outputs": [
    {
     "name": "stdout",
     "output_type": "stream",
     "text": [
      "0\n",
      "1\n",
      "1\n",
      "2\n",
      "3\n",
      "5\n",
      "8\n",
      "13\n",
      "21\n",
      "34\n"
     ]
    }
   ],
   "source": [
    "##Q6.\n",
    "\n",
    "def fib():\n",
    "    a, b = 0, 1\n",
    "    while True:\n",
    "        yield a\n",
    "        a, b = b, a + b\n",
    "        \n",
    "fib1 = fib()\n",
    "        \n",
    "for i in range(10):\n",
    "    print(next(fib1))\n"
   ]
  },
  {
   "cell_type": "code",
   "execution_count": 54,
   "id": "5cb1fbb9-9f57-43ba-99f2-9813cd864813",
   "metadata": {},
   "outputs": [
    {
     "name": "stdout",
     "output_type": "stream",
     "text": [
      "['p', 'w', 's', 'k', 'i', 'l', 'l', 's']\n"
     ]
    }
   ],
   "source": [
    "##q7. \n",
    "\n",
    "l = \"pwskills\"\n",
    "\n",
    "l1= []\n",
    "\n",
    "for i in l:\n",
    "    l1.append(i)\n",
    "print(l1)\n",
    "\n"
   ]
  },
  {
   "cell_type": "code",
   "execution_count": 55,
   "id": "47d04a56-025a-44b1-a5c0-3e55c657aed9",
   "metadata": {},
   "outputs": [
    {
     "name": "stdin",
     "output_type": "stream",
     "text": [
      "Enter a number:  343\n"
     ]
    },
    {
     "name": "stdout",
     "output_type": "stream",
     "text": [
      "343 is a palindrome\n"
     ]
    }
   ],
   "source": [
    "##q8.\n",
    "def is_palindrome(number):\n",
    "    temp = number\n",
    "    reversed_num = 0\n",
    "\n",
    "    while temp > 0:\n",
    "        digit = temp % 10\n",
    "        reversed_num = (reversed_num * 10) + digit\n",
    "        temp //= 10\n",
    "\n",
    "    if number == reversed_num:\n",
    "        return True\n",
    "    else:\n",
    "        return False\n",
    "\n",
    "# Example usage\n",
    "number = int(input(\"Enter a number: \"))\n",
    "\n",
    "if is_palindrome(number):\n",
    "    print(number, \"is a palindrome\")\n",
    "else:\n",
    "    print(number, \"is not a palindrome\")"
   ]
  },
  {
   "cell_type": "code",
   "execution_count": 65,
   "id": "55886c8a-7def-4265-ab8c-e2a5b6cc25c1",
   "metadata": {},
   "outputs": [
    {
     "name": "stdout",
     "output_type": "stream",
     "text": [
      "[1, 3, 5, 7, 9, 11, 13, 15, 17, 19, 21, 23, 25, 27, 29, 31, 33, 35, 37, 39, 41, 43, 45, 47, 49, 51, 53, 55, 57, 59, 61, 63, 65, 67, 69, 71, 73, 75, 77, 79, 81, 83, 85, 87, 89, 91, 93, 95, 97, 99]\n"
     ]
    }
   ],
   "source": [
    "##q9.\n",
    "\n",
    "##l = []\n",
    "\n",
    "l = [i for i in range(1,100) if i%2 !=0]\n",
    "print(l)"
   ]
  },
  {
   "cell_type": "code",
   "execution_count": null,
   "id": "e2b6013b-0f1a-4392-9a1f-09f8dbbf91cd",
   "metadata": {},
   "outputs": [],
   "source": []
  }
 ],
 "metadata": {
  "kernelspec": {
   "display_name": "Python 3 (ipykernel)",
   "language": "python",
   "name": "python3"
  },
  "language_info": {
   "codemirror_mode": {
    "name": "ipython",
    "version": 3
   },
   "file_extension": ".py",
   "mimetype": "text/x-python",
   "name": "python",
   "nbconvert_exporter": "python",
   "pygments_lexer": "ipython3",
   "version": "3.10.8"
  }
 },
 "nbformat": 4,
 "nbformat_minor": 5
}
