{
 "cells": [
  {
   "cell_type": "markdown",
   "id": "dd7f8ffc-9ab4-40e1-bf46-d8b293cfd143",
   "metadata": {},
   "source": [
    "Q1. Single-line comments: To add a comment in only a single line, we can use the hash symbol (#). Anything after the # on that line will be considered a comment.\n",
    "\n",
    "Multi-line comments: To add comments that in multiple lines, you can use triple quotes (''' or \"\"\"). Anything enclosed between the triple quotes will be considered a comment."
   ]
  },
  {
   "cell_type": "markdown",
   "id": "6d46e11c-b326-4063-b7f9-cd282bdb724c",
   "metadata": {},
   "source": [
    "Q2.  variables are used to store and manipulate data. A variable is essentially a name that represents a value in memory.\n",
    "\n",
    "variable_name = Value"
   ]
  },
  {
   "cell_type": "markdown",
   "id": "aad9e4b2-bad1-48d0-bed5-f9640f2613b7",
   "metadata": {},
   "source": [
    "Q3. we can use typecasting\n",
    "\n",
    "x = int(\"10\") // coverting string value to integer"
   ]
  },
  {
   "cell_type": "markdown",
   "id": "7055faab-ea7f-48fa-a1aa-3eaf43c513c3",
   "metadata": {},
   "source": [
    "Q4."
   ]
  },
  {
   "cell_type": "code",
   "execution_count": 1,
   "id": "3affa6cd-d849-42da-ad8c-0514fef91d7e",
   "metadata": {},
   "outputs": [
    {
     "data": {
      "text/plain": [
       "[2, 3]"
      ]
     },
     "execution_count": 1,
     "metadata": {},
     "output_type": "execute_result"
    }
   ],
   "source": [
    "#Q5.Given a list my_list = [1, 2, 3, 4, 5], write the code to slice the list and obtain the sub-list [2, 3].\n",
    "\n",
    "my_list = [1, 2, 3, 4, 5]\n",
    "my_list[1:3]"
   ]
  },
  {
   "cell_type": "markdown",
   "id": "436e162a-9f9a-4554-b48a-ff82ee11702e",
   "metadata": {},
   "source": [
    "Q6. a complex number is a number that comprises both a real part and an imaginary part. It is represented in the form of a + bi, where a is real and b is the imaginary part.\n",
    "\n",
    "a = 3 + 4j"
   ]
  },
  {
   "cell_type": "code",
   "execution_count": 2,
   "id": "a6009524-5d5f-47a4-9899-30eb487bf9ef",
   "metadata": {},
   "outputs": [
    {
     "data": {
      "text/plain": [
       "25"
      ]
     },
     "execution_count": 2,
     "metadata": {},
     "output_type": "execute_result"
    }
   ],
   "source": [
    "# Q7.  \n",
    "\n",
    "age = 25\n",
    "age"
   ]
  },
  {
   "cell_type": "code",
   "execution_count": 3,
   "id": "525253aa-8348-40d7-b4d5-e105adcd3363",
   "metadata": {},
   "outputs": [
    {
     "data": {
      "text/plain": [
       "float"
      ]
     },
     "execution_count": 3,
     "metadata": {},
     "output_type": "execute_result"
    }
   ],
   "source": [
    "# Q8 .\n",
    "\n",
    "price = 9.99\n",
    "type(price)"
   ]
  },
  {
   "cell_type": "code",
   "execution_count": 8,
   "id": "eacdcc51-1113-43b8-abb1-5e485b862d20",
   "metadata": {},
   "outputs": [
    {
     "name": "stdout",
     "output_type": "stream",
     "text": [
      "Aditya\n"
     ]
    }
   ],
   "source": [
    "name = \"Aditya\"\n",
    "print(name)\n"
   ]
  },
  {
   "cell_type": "code",
   "execution_count": 17,
   "id": "5a9ab7c2-4a31-4b73-ba46-5669b9a0622b",
   "metadata": {},
   "outputs": [
    {
     "data": {
      "text/plain": [
       "'World'"
      ]
     },
     "execution_count": 17,
     "metadata": {},
     "output_type": "execute_result"
    }
   ],
   "source": [
    "String =\"Hello, World!\"\n",
    "String[7:12]\n"
   ]
  },
  {
   "cell_type": "code",
   "execution_count": null,
   "id": "c432b41b-3662-4606-b170-5be8898d3913",
   "metadata": {},
   "outputs": [],
   "source": []
  }
 ],
 "metadata": {
  "kernelspec": {
   "display_name": "Python 3 (ipykernel)",
   "language": "python",
   "name": "python3"
  },
  "language_info": {
   "codemirror_mode": {
    "name": "ipython",
    "version": 3
   },
   "file_extension": ".py",
   "mimetype": "text/x-python",
   "name": "python",
   "nbconvert_exporter": "python",
   "pygments_lexer": "ipython3",
   "version": "3.10.8"
  }
 },
 "nbformat": 4,
 "nbformat_minor": 5
}
