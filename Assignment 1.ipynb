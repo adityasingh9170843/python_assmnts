{
 "cells": [
  {
   "cell_type": "code",
   "execution_count": 8,
   "id": "33618ea2-9902-49d6-800e-7fd286074f73",
   "metadata": {},
   "outputs": [
    {
     "data": {
      "text/plain": [
       "str"
      ]
     },
     "execution_count": 8,
     "metadata": {},
     "output_type": "execute_result"
    }
   ],
   "source": [
    "# Q1. Create one variable containing following type of data:\n",
    "\n",
    "var1= 'Aditya'\n",
    "type(var1)\n"
   ]
  },
  {
   "cell_type": "code",
   "execution_count": 5,
   "id": "bf1857e9-ecf8-4ee4-8f3d-db1c5dca0f82",
   "metadata": {},
   "outputs": [
    {
     "data": {
      "text/plain": [
       "list"
      ]
     },
     "execution_count": 5,
     "metadata": {},
     "output_type": "execute_result"
    }
   ],
   "source": [
    "var2= [1,2,3,34.56,'adi']\n",
    "type(var2)\n"
   ]
  },
  {
   "cell_type": "code",
   "execution_count": 6,
   "id": "6c2ccdda-a2c8-414e-918b-9924a118e207",
   "metadata": {},
   "outputs": [
    {
     "data": {
      "text/plain": [
       "float"
      ]
     },
     "execution_count": 6,
     "metadata": {},
     "output_type": "execute_result"
    }
   ],
   "source": [
    "var3=33.44\n",
    "type(var3)"
   ]
  },
  {
   "cell_type": "code",
   "execution_count": 7,
   "id": "468d9871-9925-47e4-9083-18c94fc73de9",
   "metadata": {},
   "outputs": [
    {
     "data": {
      "text/plain": [
       "tuple"
      ]
     },
     "execution_count": 7,
     "metadata": {},
     "output_type": "execute_result"
    }
   ],
   "source": [
    "var4= (20,34.55,'adi')\n",
    "type(var4)"
   ]
  },
  {
   "cell_type": "code",
   "execution_count": 10,
   "id": "60187188-14ca-4cf5-a088-27cecd1d58b4",
   "metadata": {},
   "outputs": [],
   "source": [
    "# Q2. Given are some following variables containing data:\n",
    "\n",
    "# 1. String\n",
    "# 2. String\n",
    "# 3. List\n",
    "# 4. Integer"
   ]
  },
  {
   "cell_type": "code",
   "execution_count": 12,
   "id": "6f9cab3a-7445-4d5f-956c-c6fe5370416f",
   "metadata": {},
   "outputs": [
    {
     "name": "stdout",
     "output_type": "stream",
     "text": [
      "2.0\n"
     ]
    }
   ],
   "source": [
    "# Q3. Explain the use of the following operators using an example:\n",
    "\n",
    "# 1. / is used to perfrom division operations.\n",
    "\n",
    "a=4\n",
    "b=2\n",
    "c=a/b\n",
    "print(c)"
   ]
  },
  {
   "cell_type": "code",
   "execution_count": 14,
   "id": "1bec7560-7c4d-4f45-b049-025af4d34034",
   "metadata": {},
   "outputs": [
    {
     "name": "stdout",
     "output_type": "stream",
     "text": [
      "1\n"
     ]
    }
   ],
   "source": [
    "# 2. % is a modulus operator. It returns the remainder\n",
    "\n",
    "a=5\n",
    "b=2\n",
    "c=a%b\n",
    "print(c)"
   ]
  },
  {
   "cell_type": "code",
   "execution_count": 16,
   "id": "f153161a-2977-477a-a59b-d72d7bd6a82e",
   "metadata": {},
   "outputs": [
    {
     "name": "stdout",
     "output_type": "stream",
     "text": [
      "16\n"
     ]
    }
   ],
   "source": [
    "# 4. ** is used for exponential calculations\n",
    "\n",
    "a= 4**2\n",
    "print(a)"
   ]
  },
  {
   "cell_type": "code",
   "execution_count": 39,
   "id": "dfa258f0-f071-43ae-bf49-93c316b8f42b",
   "metadata": {},
   "outputs": [
    {
     "name": "stdout",
     "output_type": "stream",
     "text": [
      "2\n"
     ]
    }
   ],
   "source": [
    "# 3. // is a floor division operator. It returns quotient\n",
    "\n",
    "a=4\n",
    "b=2\n",
    "c=a//b\n",
    "print(c)"
   ]
  },
  {
   "cell_type": "code",
   "execution_count": 40,
   "id": "291df017-2cc1-465e-9d7c-c8bb524a3319",
   "metadata": {},
   "outputs": [
    {
     "name": "stdout",
     "output_type": "stream",
     "text": [
      "1\n",
      "<class 'int'>\n",
      "2\n",
      "<class 'int'>\n",
      "44.2\n",
      "<class 'float'>\n",
      "adi\n",
      "<class 'str'>\n",
      "6\n",
      "<class 'int'>\n",
      "7\n",
      "<class 'int'>\n",
      "3.4\n",
      "<class 'float'>\n",
      "two\n",
      "<class 'str'>\n",
      "9\n",
      "<class 'int'>\n",
      "666\n",
      "<class 'int'>\n"
     ]
    }
   ],
   "source": [
    "#  Q4. Create a list of length 10 of your choice containing multiple types of data. Using for loop print the element and its data type.\n",
    "\n",
    "list = [ 1,2,44.2,'adi',6,7,3.4,'two',9,666]\n",
    "\n",
    "for i in list:\n",
    "    print(i)\n",
    "    print(type(i))"
   ]
  },
  {
   "cell_type": "code",
   "execution_count": 42,
   "id": "e048b796-dd91-4c57-9d6e-db6960e7fee4",
   "metadata": {
    "tags": []
   },
   "outputs": [
    {
     "name": "stdout",
     "output_type": "stream",
     "text": [
      "4\n"
     ]
    }
   ],
   "source": [
    "#  Q5. Using a while loop, verify if the number A is purely divisible by number B and if so then how many times it can be divisible.\n",
    "\n",
    "A=16\n",
    "B=2\n",
    "c=0\n",
    "while A % B == 0:\n",
    "    A= A/B\n",
    "    c += 1\n",
    "    \n",
    "print(c)    \n",
    "    \n",
    "    \n"
   ]
  },
  {
   "cell_type": "code",
   "execution_count": 50,
   "id": "88bfe3de-61f6-4892-96fc-774369e5636f",
   "metadata": {},
   "outputs": [
    {
     "name": "stdout",
     "output_type": "stream",
     "text": [
      "the number is not divisible by 3\n",
      "the number is not divisible by 3\n",
      "the number is divisible by 3\n",
      "the number is not divisible by 3\n",
      "the number is not divisible by 3\n",
      "the number is divisible by 3\n",
      "the number is not divisible by 3\n",
      "the number is not divisible by 3\n",
      "the number is divisible by 3\n",
      "the number is not divisible by 3\n",
      "the number is not divisible by 3\n",
      "the number is divisible by 3\n",
      "the number is not divisible by 3\n",
      "the number is not divisible by 3\n",
      "the number is divisible by 3\n",
      "the number is not divisible by 3\n",
      "the number is not divisible by 3\n",
      "the number is divisible by 3\n",
      "the number is not divisible by 3\n",
      "the number is not divisible by 3\n",
      "the number is divisible by 3\n",
      "the number is not divisible by 3\n",
      "the number is not divisible by 3\n",
      "the number is divisible by 3\n",
      "the number is not divisible by 3\n"
     ]
    }
   ],
   "source": [
    "# Q6. Create a list containing 25 int type data. Using for loop and if-else condition print if the element is divisible by 3 or not.\n",
    "\n",
    "list = [1, 2, 3, 4, 5, 6, 7, 8, 9, 10, 11, 12, 13, 14, 15, 16, 17, 18, 19, 20, 21, 22, 23, 24, 25]\n",
    "\n",
    "for i in list:\n",
    "    if i % 3 ==0:\n",
    "        print(\"the number is divisible by 3\")\n",
    "    else:\n",
    "        print(\"the number is not divisible by 3\")\n"
   ]
  },
  {
   "cell_type": "code",
   "execution_count": 55,
   "id": "9c3b2404-5226-41cd-9cb6-a03357bf3e24",
   "metadata": {},
   "outputs": [
    {
     "name": "stdout",
     "output_type": "stream",
     "text": [
      "[66, 2, 3, 4, 5]\n"
     ]
    }
   ],
   "source": [
    "# Q7. What do you understand about mutable and immutable data types? Give examples for both showing this property.\n",
    "\n",
    "# An immutable data type is one whose value cant be changed once the its is created \n",
    "# An mmutable data type is one whose value can be changed once the its is created \n",
    "\n",
    "# Inmutable\n",
    "\n",
    "s='Adi'\n",
    "s[0]=a\n",
    "print(s)\n",
    "\n",
    "# Mutable\n",
    "\n",
    "l=[1,2,3,4,5]\n",
    "l[0]=66\n",
    "print(l)\n"
   ]
  },
  {
   "cell_type": "code",
   "execution_count": null,
   "id": "e1340f53-e838-44cc-9546-d6e3c30097e6",
   "metadata": {},
   "outputs": [],
   "source": []
  }
 ],
 "metadata": {
  "kernelspec": {
   "display_name": "Python 3 (ipykernel)",
   "language": "python",
   "name": "python3"
  },
  "language_info": {
   "codemirror_mode": {
    "name": "ipython",
    "version": 3
   },
   "file_extension": ".py",
   "mimetype": "text/x-python",
   "name": "python",
   "nbconvert_exporter": "python",
   "pygments_lexer": "ipython3",
   "version": "3.10.8"
  }
 },
 "nbformat": 4,
 "nbformat_minor": 5
}
